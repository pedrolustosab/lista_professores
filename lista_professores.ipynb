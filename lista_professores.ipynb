{
  "nbformat": 4,
  "nbformat_minor": 0,
  "metadata": {
    "colab": {
      "provenance": []
    },
    "kernelspec": {
      "name": "python3",
      "display_name": "Python 3"
    },
    "language_info": {
      "name": "python"
    }
  },
  "cells": [
    {
      "cell_type": "markdown",
      "source": [
        "#Introdução\n",
        "\n",
        "O seguinte script em Python cria um dicionário associando aleatoriamente professores a linguagens de programação. A lista de professores é gerada automaticamente, composta por 20 elementos no formato \"Professorn\", onde n varia de 0 a 19. Já a lista linguagens de programação é predefinida, incluindo Python, SQL, Java e HTML. O script utiliza a biblioteca random para atribuição aleatória entre professores e linguagem.\n",
        "\n",
        "Em seguida, é empregada a função reduce para agrupar os professores de acordo com a linguagem de programação que cada um ensina. Para isso, é definida uma função redutora que, ao percorrer o dicionário de professores e suas linguagens, cria uma estrutura de dados que organiza os professores em listas associadas às respectivas linguagens. O resultado final é impresso, mostrando os professores agrupados por linguagem.\n",
        "\n",
        "\n",
        "\n"
      ],
      "metadata": {
        "id": "DPzDXip5Pm1M"
      }
    },
    {
      "cell_type": "code",
      "source": [
        "# Lista de professores\n",
        "professores = ['Professor' + str(i) for i in range(20)]\n",
        "\n",
        "# Lista de linguagens de programação\n",
        "linguagens = [\"Python\", \"SQL\", \"Java\", \"HTML\"]\n",
        "\n",
        "# Criação do dicionário registros aleatórios\n",
        "import random\n",
        "registro_professores = {}\n",
        "for professor in professores:\n",
        "    linguagem = random.choice(linguagens)\n",
        "    registro_professores[professor] = linguagem\n",
        "\n",
        "registro_professores"
      ],
      "metadata": {
        "colab": {
          "base_uri": "https://localhost:8080/"
        },
        "id": "jlHk9fRqQuSf",
        "outputId": "b045496f-f53a-49ab-c8f0-38cf43822d1a"
      },
      "execution_count": 1,
      "outputs": [
        {
          "output_type": "execute_result",
          "data": {
            "text/plain": [
              "{'Professor0': 'Python',\n",
              " 'Professor1': 'HTML',\n",
              " 'Professor2': 'Java',\n",
              " 'Professor3': 'Python',\n",
              " 'Professor4': 'SQL',\n",
              " 'Professor5': 'Java',\n",
              " 'Professor6': 'SQL',\n",
              " 'Professor7': 'Java',\n",
              " 'Professor8': 'Java',\n",
              " 'Professor9': 'HTML',\n",
              " 'Professor10': 'Java',\n",
              " 'Professor11': 'Python',\n",
              " 'Professor12': 'SQL',\n",
              " 'Professor13': 'SQL',\n",
              " 'Professor14': 'HTML',\n",
              " 'Professor15': 'Python',\n",
              " 'Professor16': 'HTML',\n",
              " 'Professor17': 'Python',\n",
              " 'Professor18': 'SQL',\n",
              " 'Professor19': 'Java'}"
            ]
          },
          "metadata": {},
          "execution_count": 1
        }
      ]
    },
    {
      "cell_type": "code",
      "source": [
        "from functools import reduce\n",
        "\n",
        "# Definindo uma função que será usada para reduzir os professores por linguagem\n",
        "def gera_redutor(dicionario):\n",
        "    def redutor(acumulador, chave):\n",
        "        # Obtendo a linguagem associada ao professor atual\n",
        "        linguagem = dicionario[chave]\n",
        "\n",
        "        # Verificando se a linguagem já está presente no acumulador\n",
        "        if linguagem in acumulador:\n",
        "            # Se sim, adiciona o professor à lista existente\n",
        "            acumulador[linguagem].append(chave)\n",
        "        else:\n",
        "            # Se não, cria uma nova lista com o professor\n",
        "            acumulador[linguagem] = [chave]\n",
        "\n",
        "        return acumulador\n",
        "\n",
        "    return redutor\n",
        "\n",
        "# Criando um redutor específico para os professores\n",
        "redutor_profs = gera_redutor(registro_professores)\n",
        "\n",
        "# Reduzindo a lista de professores usando o redutor\n",
        "# Inicializando o acumulador com um valor padrão {'teste':['Professorx']}\n",
        "profs_por_curso = reduce(redutor_profs, registro_professores, {'teste':['Professorx']})\n",
        "\n",
        "# Mostrando o resultado final\n",
        "print(profs_por_curso)"
      ],
      "metadata": {
        "colab": {
          "base_uri": "https://localhost:8080/"
        },
        "id": "f4LIaaWAQ9Rt",
        "outputId": "cef20084-5034-4eb4-e29b-3f3260fc7f60"
      },
      "execution_count": 2,
      "outputs": [
        {
          "output_type": "stream",
          "name": "stdout",
          "text": [
            "{'teste': ['Professorx'], 'Python': ['Professor0', 'Professor3', 'Professor11', 'Professor15', 'Professor17'], 'HTML': ['Professor1', 'Professor9', 'Professor14', 'Professor16'], 'Java': ['Professor2', 'Professor5', 'Professor7', 'Professor8', 'Professor10', 'Professor19'], 'SQL': ['Professor4', 'Professor6', 'Professor12', 'Professor13', 'Professor18']}\n"
          ]
        }
      ]
    },
    {
      "cell_type": "markdown",
      "source": [
        "#Conclusão:\n",
        "\n",
        "Este exemplo oferece insights sobre a flexibilidade e eficácia da função reduce em situações de processamento de dados mais complexas."
      ],
      "metadata": {
        "id": "-jciptZDRa9u"
      }
    }
  ]
}